{
 "cells": [
  {
   "cell_type": "markdown",
   "metadata": {
    "id": "VTHU63hYgwzT"
   },
   "source": [
    "summary: In this tutorial, we will learn how to setup our own tutorial repositories using codelab and git actions.\n",
    "id: how-to-create-your-own-codelab\n",
    "categories: Tutorial\n",
    "tags: \n",
    "status: Published\n",
    "authors: Sparsh A.\n",
    "Feedback Link: https://form.jotform.com/211377288388469"
   ]
  },
  {
   "cell_type": "markdown",
   "metadata": {
    "id": "uC6AkZdChapT"
   },
   "source": [
    "# How to create your own codelab (automated)"
   ]
  },
  {
   "cell_type": "markdown",
   "metadata": {
    "id": "-67Oh2k3uCIW"
   },
   "source": [
    "<!-- ------------------------ -->\n",
    "## Prepare your Tutorial\n",
    "Duration: 5"
   ]
  },
  {
   "cell_type": "markdown",
   "metadata": {},
   "source": [
    "### Setup Jupyter"
   ]
  },
  {
   "cell_type": "markdown",
   "metadata": {
    "id": "BfEICnBOqpR4"
   },
   "source": [
    "We chose jupyter notebooks as an ideal choice for preparing tutorials because it integrates markdown with code, images and million other things. If you do not have a jupyter environment setup locally, you can choose [Colab](https://colab.research.google.com/) or [Binder](https://mybinder.org/v2/gh/jupyterlab/jupyterlab-demo/master?urlpath=lab/tree/demo) to prepare your notebook on cloud for free."
   ]
  },
  {
   "cell_type": "markdown",
   "metadata": {
    "id": "SBa3rJ7SsMfU"
   },
   "source": [
    "### Create Tutorial\n",
    "Write down your desired tutorial in colab as per [these](https://github.com/googlecodelabs/tools/blob/master/FORMAT-GUIDE.md) markdown instructions."
   ]
  },
  {
   "cell_type": "markdown",
   "metadata": {
    "id": "2BNE6As_wsUt"
   },
   "source": [
    "<!-- ------------------------ -->\n",
    "## Setup Git Repository\n",
    "Duration: 10"
   ]
  },
  {
   "cell_type": "markdown",
   "metadata": {},
   "source": [
    "This step is a one-time setup process. We will use GitHub to maintain and host our codelab site for free.\n",
    "\n",
    "### Fork\n",
    "Fork [this](https://github.com/sparsh-ai/codelabs) repo.\n",
    "\n",
    "### Rename (optional)\n",
    "Rename this forked repo if you want. You can choose any name you like.\n",
    "\n",
    "### Update \n",
    "Update the ```config.txt``` file, which is present in the root folder of this forked repo. Replace the two variables:\n",
    "1. Put your ```<git username>```.github.io in the TGTBASE variable.\n",
    "2. Put your ```repo name``` in the TGTSITE variable.\n",
    "\n",
    "e.g. for a git user ```sparsh-ai``` and repo name ```codelab```, the updated file would look like this:\n",
    "```bash\n",
    "export TGTBASE=\"sparsh-ai.github.io\"\n",
    "export TGTSITE=\"codelabs\"\n",
    "```\n",
    "\n",
    "### Customize (optional)\n",
    "You can customize both landing page and codelabs.\n",
    "\n",
    "<aside class=\"positive\">\n",
    "Codelab customization is mainly done via tags that we provide during the creation of jupyter notebook based tutorials.\n",
    "</aside>\n",
    "\n",
    "We can customize the following items in landing page by simple modifications.\n",
    "1. Change Header and Logo\n",
    "2. Add Category\n",
    "3. Add View\n",
    "4. Change Footer"
   ]
  },
  {
   "cell_type": "markdown",
   "metadata": {},
   "source": [
    "<!-- ------------------------ -->\n",
    "## Add new Codelabs\n",
    "Duration: 5"
   ]
  },
  {
   "cell_type": "markdown",
   "metadata": {},
   "source": [
    "To add a new codelab to the codelab site, pull the repo, add our notebook and push it back to the master.\n",
    "\n",
    "### Pull the repo\n",
    "Pull the repo using ```git pull origin master``` where origin is pointed to your repo where codelabs site is hosted. If repo is already there, you can opt for ```git pull --rebase origin master``` instead.\n",
    "\n",
    "### Add tutorial notebook\n",
    "Add your tutorial notebook in the ```_notebook``` folder. Make sure the notebook format is following the codelab markdown guidelines and the extension is ```.ipynb```.\n",
    "\n",
    "### Push the repo\n",
    "Push the updated repo changes to master branch using the standard set of add -> commit -> push chain. e.g. you can use ```git add . && git commit -m 'new build' && git push origin master``` to push the changes."
   ]
  },
  {
   "cell_type": "markdown",
   "metadata": {
    "id": "PM341vSUGcOq"
   },
   "source": [
    "<!-- ------------------------ -->\n",
    "## Conclusion\n",
    "Duration: 1"
   ]
  },
  {
   "cell_type": "markdown",
   "metadata": {
    "id": "6vZ-Cmw6Gknw"
   },
   "source": [
    "Git actions workflow named ```CI``` would automatically start deploying latest changes of the master branch. You can check the status in ```Actions``` tab of your git repo.\n",
    "\n",
    "To access the codelabs site, go to your github pages URL. The typical URL format is ```https://<user_name>.github.io/<repo_name>```.\n",
    "\n",
    "Verify the functionality and modify/enhance the process as per requirements.\n",
    "\n",
    "#### Have a Question?\n",
    "- https://form.jotform.com/211377288388469\n",
    "\n",
    "#### Github Issues\n",
    "- https://github.com/recohut/reco-step/issues"
   ]
  }
 ],
 "metadata": {
  "colab": {
   "collapsed_sections": [],
   "name": "codelabs-template.ipynb",
   "provenance": [],
   "toc_visible": true
  },
  "kernelspec": {
   "display_name": "Python 3",
   "language": "python",
   "name": "python3"
  },
  "language_info": {
   "codemirror_mode": {
    "name": "ipython",
    "version": 3
   },
   "file_extension": ".py",
   "mimetype": "text/x-python",
   "name": "python",
   "nbconvert_exporter": "python",
   "pygments_lexer": "ipython3",
   "version": "3.7.3"
  }
 },
 "nbformat": 4,
 "nbformat_minor": 4
}